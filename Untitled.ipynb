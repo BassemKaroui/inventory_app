{
 "cells": [
  {
   "cell_type": "code",
   "execution_count": 1,
   "id": "2217d996-d475-44cc-93a2-130cee2e19ed",
   "metadata": {},
   "outputs": [],
   "source": [
    "from models.base import Base, engine\n",
    "from models.item import Item"
   ]
  },
  {
   "cell_type": "code",
   "execution_count": 2,
   "id": "f873862f-0ad7-4674-84a5-127c7ccd7852",
   "metadata": {},
   "outputs": [],
   "source": [
    "from sqlalchemy import select\n",
    "from sqlalchemy.orm import Session\n",
    "from sqlalchemy import text"
   ]
  },
  {
   "cell_type": "code",
   "execution_count": 3,
   "id": "27343221-b61d-4746-bbce-1d918c86756b",
   "metadata": {},
   "outputs": [],
   "source": [
    "session = Session(bind=engine)"
   ]
  },
  {
   "cell_type": "code",
   "execution_count": 84,
   "id": "cf5444ba-791b-4c94-8742-33a0d77fd0f1",
   "metadata": {},
   "outputs": [],
   "source": [
    "statement = select(Item).where(Item.name == 'Item 1')"
   ]
  },
  {
   "cell_type": "code",
   "execution_count": 85,
   "id": "29dc04e4-2205-409e-9e6e-90a047bcd3b7",
   "metadata": {},
   "outputs": [],
   "source": [
    "result = session.execute(statement)"
   ]
  },
  {
   "cell_type": "code",
   "execution_count": 18,
   "id": "fc08982f-c1c4-4827-8272-a6bf83b914f2",
   "metadata": {},
   "outputs": [],
   "source": [
    "row = result.scalars().first()\n",
    "# result.scalars().all()"
   ]
  },
  {
   "cell_type": "code",
   "execution_count": 86,
   "id": "7a2c2f5c-e010-4b6f-a437-1e5df0e76bf7",
   "metadata": {},
   "outputs": [
    {
     "data": {
      "text/plain": [
       "models.item.Item"
      ]
     },
     "execution_count": 86,
     "metadata": {},
     "output_type": "execute_result"
    }
   ],
   "source": [
    "type(row)"
   ]
  },
  {
   "cell_type": "code",
   "execution_count": 90,
   "id": "fa695c0f-2f07-439f-b174-63a7d6a180d9",
   "metadata": {},
   "outputs": [
    {
     "data": {
      "text/plain": [
       "('Item 1', UUID('7f62bcd1-ac18-4b6d-b3fe-0b1f10b1e8bf'))"
      ]
     },
     "execution_count": 90,
     "metadata": {},
     "output_type": "execute_result"
    }
   ],
   "source": [
    "row.name, row.id"
   ]
  },
  {
   "cell_type": "code",
   "execution_count": 92,
   "id": "a71e48ba-e19a-4721-a817-efaa5f01ebab",
   "metadata": {},
   "outputs": [
    {
     "name": "stdout",
     "output_type": "stream",
     "text": [
      "Item 1    : description 1\n",
      "Item 2    : description 2\n",
      "item 3    : description 3\n",
      "Item 4    : description 4\n"
     ]
    }
   ],
   "source": [
    "results = session.execute(select(Item)).scalars()\n",
    "for item_row in results:\n",
    "    print(f'{item_row.name:10}: {item_row.description}')"
   ]
  },
  {
   "cell_type": "code",
   "execution_count": 52,
   "id": "f75da7cf-868d-4592-ac9a-706ab34b2b40",
   "metadata": {},
   "outputs": [],
   "source": [
    "tmp_res = session.execute(text(\"select * from item\"))"
   ]
  },
  {
   "cell_type": "code",
   "execution_count": 53,
   "id": "a8294ec4-2c0f-4dbd-afbe-fa3fbff76032",
   "metadata": {},
   "outputs": [
    {
     "data": {
      "text/plain": [
       "(UUID('7f62bcd1-ac18-4b6d-b3fe-0b1f10b1e8bf'), datetime.datetime(2024, 5, 10, 17, 48, 31, 989193), 'Item 1', 14.89, 'description 1')"
      ]
     },
     "execution_count": 53,
     "metadata": {},
     "output_type": "execute_result"
    }
   ],
   "source": [
    "tmp_res.first()"
   ]
  },
  {
   "cell_type": "code",
   "execution_count": 81,
   "id": "537f51d2-faea-4c60-98c8-86f3552dcdda",
   "metadata": {},
   "outputs": [
    {
     "data": {
      "text/plain": [
       "sqlalchemy.sql.schema.Table"
      ]
     },
     "execution_count": 81,
     "metadata": {},
     "output_type": "execute_result"
    }
   ],
   "source": []
  },
  {
   "cell_type": "code",
   "execution_count": 71,
   "id": "93e4d39f-a67e-491a-bdbc-281410d1a3b8",
   "metadata": {},
   "outputs": [],
   "source": [
    "item_table = Base.metadata.tables['item']"
   ]
  },
  {
   "cell_type": "code",
   "execution_count": 78,
   "id": "f633cd58-c3a9-4cad-9476-82899998a574",
   "metadata": {},
   "outputs": [
    {
     "data": {
      "text/plain": [
       "True"
      ]
     },
     "execution_count": 78,
     "metadata": {},
     "output_type": "execute_result"
    }
   ],
   "source": [
    "Item.__table__ is Base.metadata.tables['item']"
   ]
  },
  {
   "cell_type": "code",
   "execution_count": 63,
   "id": "c2fc41d1-c894-46d6-9a2c-9d9ceecaf055",
   "metadata": {},
   "outputs": [],
   "source": [
    "second_statement = select(Base.metadata.tables['item'])"
   ]
  },
  {
   "cell_type": "code",
   "execution_count": 67,
   "id": "0ffbfd21-6075-4898-8e24-15e534ba8cf1",
   "metadata": {},
   "outputs": [],
   "source": [
    "result = session.execute(second_statement)"
   ]
  },
  {
   "cell_type": "code",
   "execution_count": 68,
   "id": "28e56cc8-8040-4430-acc6-6a98f0078029",
   "metadata": {},
   "outputs": [
    {
     "data": {
      "text/plain": [
       "(UUID('7f62bcd1-ac18-4b6d-b3fe-0b1f10b1e8bf'), datetime.datetime(2024, 5, 10, 17, 48, 31, 989193), 'Item 1', 14.89, 'description 1')"
      ]
     },
     "execution_count": 68,
     "metadata": {},
     "output_type": "execute_result"
    }
   ],
   "source": [
    "result.first()"
   ]
  },
  {
   "cell_type": "code",
   "execution_count": null,
   "id": "186d4d9f-f70f-4a6d-bd1a-1b6f3fdbd653",
   "metadata": {},
   "outputs": [],
   "source": []
  },
  {
   "cell_type": "code",
   "execution_count": 93,
   "id": "58902937-20cc-46d8-a4c3-00d49b1efaa5",
   "metadata": {},
   "outputs": [
    {
     "data": {
      "text/plain": [
       "[(UUID('7f62bcd1-ac18-4b6d-b3fe-0b1f10b1e8bf'), datetime.datetime(2024, 5, 10, 17, 48, 31, 989193), 'Item 1', 14.89, 'description 1')]"
      ]
     },
     "execution_count": 93,
     "metadata": {},
     "output_type": "execute_result"
    }
   ],
   "source": [
    "session.execute(\n",
    "    select(item_table).where(item_table.c.name == 'Item 1')\n",
    ").all()"
   ]
  },
  {
   "cell_type": "code",
   "execution_count": 99,
   "id": "79e686dd-c086-4529-a723-cd8fbf0f3180",
   "metadata": {},
   "outputs": [
    {
     "data": {
      "text/plain": [
       "['id', 'created_at', 'name', 'price', 'description']"
      ]
     },
     "execution_count": 99,
     "metadata": {},
     "output_type": "execute_result"
    }
   ],
   "source": [
    "item_table.c.keys()"
   ]
  },
  {
   "cell_type": "code",
   "execution_count": 100,
   "id": "8f8083dc-356b-47cb-bb73-bee5b72857c7",
   "metadata": {},
   "outputs": [
    {
     "data": {
      "text/plain": [
       "[Column('id', UUID(), table=<item>, primary_key=True, nullable=False, default=CallableColumnDefault(<function uuid4 at 0x7042059a3eb0>)),\n",
       " Column('created_at', TIMESTAMP(), table=<item>, default=CallableColumnDefault(<function datetime.utcnow at 0x7042059b4550>)),\n",
       " Column('name', String(length=250), table=<item>, nullable=False),\n",
       " Column('price', REAL(), table=<item>, nullable=False),\n",
       " Column('description', String(length=250), table=<item>)]"
      ]
     },
     "execution_count": 100,
     "metadata": {},
     "output_type": "execute_result"
    }
   ],
   "source": [
    "item_table.c.values()"
   ]
  }
 ],
 "metadata": {
  "kernelspec": {
   "display_name": "Python 3 (ipykernel)",
   "language": "python",
   "name": "python3"
  },
  "language_info": {
   "codemirror_mode": {
    "name": "ipython",
    "version": 3
   },
   "file_extension": ".py",
   "mimetype": "text/x-python",
   "name": "python",
   "nbconvert_exporter": "python",
   "pygments_lexer": "ipython3",
   "version": "3.10.14"
  }
 },
 "nbformat": 4,
 "nbformat_minor": 5
}
